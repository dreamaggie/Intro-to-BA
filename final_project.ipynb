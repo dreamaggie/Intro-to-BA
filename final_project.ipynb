{
 "cells": [
  {
   "cell_type": "code",
   "execution_count": 1,
   "id": "b6ba3390",
   "metadata": {
    "id": "b6ba3390"
   },
   "outputs": [],
   "source": [
    "import pandas as pd\n",
    "import numpy as np\n",
    "import seaborn as sns\n",
    "import matplotlib.pyplot as plt"
   ]
  },
  {
   "cell_type": "code",
   "execution_count": 2,
   "id": "50b4b264",
   "metadata": {
    "id": "50b4b264"
   },
   "outputs": [],
   "source": [
    "df = pd.read_csv('C:/Users/Xiang Meng/Desktop/archive (1)/aug_train.csv')\n",
    "df = df.loc[:, [x for x in df.columns if x not in ['enrollee_id', 'city']]]"
   ]
  },
  {
   "cell_type": "code",
   "execution_count": 3,
   "id": "e330a2f4",
   "metadata": {
    "id": "e330a2f4",
    "outputId": "b249040b-8e57-472f-bfa0-aafa0fa7f0a0",
    "scrolled": true
   },
   "outputs": [
    {
     "name": "stdout",
     "output_type": "stream",
     "text": [
      "19158\n",
      "city_development_index: \n",
      "[0.92  0.776 0.624 0.789 0.767 0.764 0.762 0.913 0.926 0.827 0.843 0.804\n",
      " 0.855 0.887 0.91  0.884 0.924 0.666 0.558 0.923 0.794 0.754 0.939 0.55\n",
      " 0.865 0.698 0.893 0.796 0.866 0.682 0.802 0.579 0.878 0.897 0.949 0.925\n",
      " 0.896 0.836 0.693 0.769 0.775 0.903 0.555 0.727 0.64  0.516 0.743 0.899\n",
      " 0.915 0.689 0.895 0.89  0.847 0.527 0.766 0.738 0.647 0.795 0.74  0.701\n",
      " 0.493 0.84  0.691 0.735 0.742 0.479 0.722 0.921 0.848 0.856 0.898 0.83\n",
      " 0.73  0.68  0.725 0.556 0.448 0.763 0.745 0.645 0.788 0.78  0.512 0.739\n",
      " 0.563 0.518 0.824 0.487 0.649 0.781 0.625 0.807 0.664]\n",
      "gender: \n",
      "['Male' nan 'Female' 'Other']\n",
      "relevent_experience: \n",
      "['Has relevent experience' 'No relevent experience']\n",
      "enrolled_university: \n",
      "['no_enrollment' 'Full time course' nan 'Part time course']\n",
      "education_level: \n",
      "['Graduate' 'Masters' 'High School' nan 'Phd' 'Primary School']\n",
      "major_discipline: \n",
      "['STEM' 'Business Degree' nan 'Arts' 'Humanities' 'No Major' 'Other']\n",
      "experience: \n",
      "['>20' '15' '5' '<1' '11' '13' '7' '17' '2' '16' '1' '4' '10' '14' '18'\n",
      " '19' '12' '3' '6' '9' '8' '20' nan]\n",
      "company_size: \n",
      "[nan '50-99' '<10' '10000+' '5000-9999' '1000-4999' '10/49' '100-500'\n",
      " '500-999']\n",
      "company_type: \n",
      "[nan 'Pvt Ltd' 'Funded Startup' 'Early Stage Startup' 'Other'\n",
      " 'Public Sector' 'NGO']\n",
      "last_new_job: \n",
      "['1' '>4' 'never' '4' '3' '2' nan]\n",
      "training_hours: \n",
      "[ 36  47  83  52   8  24  18  46 123  32 108  23  26 106   7 132  68  50\n",
      "  48  65  13  22 148  72  40 141  82 145 206 152  42  14 112  87  20  21\n",
      "  92 102  43  45  19  90  25  15  98 142  28 228  29  12  17  35   4 136\n",
      "  27  74  86  75 332 140 182 172  33  34 150 160   3   2 210 101  59 260\n",
      " 131 109  70  51  60 164 290 133  76 156 120 100  39  55  49   6 125 326\n",
      " 198  11  41 114 246  81  31  84 105  38 178 104 202  88 218  62  10  80\n",
      "  77  37 162 190  30  16   5  54  44 110 262 107 134 103  96  57 240  94\n",
      " 113  56  64 320   9 129  58 126 166  95  97 204 116 161 146 302  53 143\n",
      " 124 214 288 306 322  67  61 130 220  78 314 226 280  91 234 163 151  85\n",
      " 256 168 144  66 128  73 122 154  63 292 188  71 135 138 184  89 157 118\n",
      " 111 192 127 216 139 196  99 167 276 121  69 155 316 242 304 284 278 310\n",
      " 222 212 250 180 258 330 158 149 165  79 194 176 174 312 200 328 300 153\n",
      " 232 336 308 147 298 224 254 248 236 170 264 119 117 334 324   1 238 266\n",
      " 282 268 244 272 294 270 286]\n",
      "target: \n",
      "[1. 0.]\n"
     ]
    }
   ],
   "source": [
    "print(len(df)) #19158\n",
    "for i in df.columns:\n",
    "    print(i +': ')\n",
    "    print(df[i].unique())"
   ]
  },
  {
   "cell_type": "code",
   "execution_count": 4,
   "id": "918822ee",
   "metadata": {
    "id": "918822ee",
    "outputId": "4c98e6b1-83c8-4582-a6ef-406ea7fdcc5a"
   },
   "outputs": [
    {
     "data": {
      "text/plain": [
       "city_development_index       0\n",
       "gender                    4508\n",
       "relevent_experience          0\n",
       "enrolled_university        386\n",
       "education_level            460\n",
       "major_discipline          2813\n",
       "experience                  65\n",
       "company_size              5938\n",
       "company_type              6140\n",
       "last_new_job               423\n",
       "training_hours               0\n",
       "target                       0\n",
       "dtype: int64"
      ]
     },
     "execution_count": 4,
     "metadata": {},
     "output_type": "execute_result"
    }
   ],
   "source": [
    "df.isna().sum()"
   ]
  },
  {
   "cell_type": "markdown",
   "id": "cb3bcbd9",
   "metadata": {
    "id": "cb3bcbd9"
   },
   "source": [
    "## since \"education_level\",\"enrolled_university\",\"experience\",\"last_new_job\", \"major_discipline\" have relatively small number of null value, we decide to drop it directly"
   ]
  },
  {
   "cell_type": "code",
   "execution_count": 5,
   "id": "af45160e",
   "metadata": {
    "id": "af45160e"
   },
   "outputs": [],
   "source": [
    "\n",
    "df.dropna(subset=[\"education_level\",\"enrolled_university\",\"experience\",\"last_new_job\",\"major_discipline\"],inplace = True)"
   ]
  },
  {
   "cell_type": "code",
   "execution_count": 6,
   "id": "5d25b4f4",
   "metadata": {
    "id": "5d25b4f4",
    "outputId": "559d904e-9b61-4eaf-a726-fbafcf4ea9d0",
    "scrolled": true
   },
   "outputs": [
    {
     "data": {
      "text/plain": [
       "15792"
      ]
     },
     "execution_count": 6,
     "metadata": {},
     "output_type": "execute_result"
    }
   ],
   "source": [
    "len(df)"
   ]
  },
  {
   "cell_type": "code",
   "execution_count": 7,
   "id": "d05a651e",
   "metadata": {
    "id": "d05a651e",
    "outputId": "d8cb094c-fbad-4b7e-ea14-f7b34af39602"
   },
   "outputs": [
    {
     "data": {
      "text/plain": [
       "city_development_index       0\n",
       "gender                    3315\n",
       "relevent_experience          0\n",
       "enrolled_university          0\n",
       "education_level              0\n",
       "major_discipline             0\n",
       "experience                   0\n",
       "company_size              3993\n",
       "company_type              4232\n",
       "last_new_job                 0\n",
       "training_hours               0\n",
       "target                       0\n",
       "dtype: int64"
      ]
     },
     "execution_count": 7,
     "metadata": {},
     "output_type": "execute_result"
    }
   ],
   "source": [
    "df.isna().sum()"
   ]
  },
  {
   "cell_type": "markdown",
   "id": "41a73d03",
   "metadata": {
    "id": "41a73d03"
   },
   "source": [
    "## replace null in \"gender\" with \"Other\""
   ]
  },
  {
   "cell_type": "code",
   "execution_count": 8,
   "id": "59ce74a1",
   "metadata": {
    "id": "59ce74a1"
   },
   "outputs": [],
   "source": [
    "df.gender = df.gender.fillna('Other')"
   ]
  },
  {
   "cell_type": "markdown",
   "id": "635e0564",
   "metadata": {
    "id": "635e0564"
   },
   "source": [
    "## deal with company_size & company_type\n",
    "## fill in with mode"
   ]
  },
  {
   "cell_type": "code",
   "execution_count": 9,
   "id": "6b3b3c5f",
   "metadata": {
    "id": "6b3b3c5f",
    "outputId": "aa30cf5b-2537-4d83-ddfb-11c66adc7f14"
   },
   "outputs": [
    {
     "data": {
      "text/plain": [
       "city_development_index       0\n",
       "gender                       0\n",
       "relevent_experience          0\n",
       "enrolled_university          0\n",
       "education_level              0\n",
       "major_discipline             0\n",
       "experience                   0\n",
       "company_size              3993\n",
       "company_type              4232\n",
       "last_new_job                 0\n",
       "training_hours               0\n",
       "target                       0\n",
       "dtype: int64"
      ]
     },
     "execution_count": 9,
     "metadata": {},
     "output_type": "execute_result"
    }
   ],
   "source": [
    "df.isna().sum()"
   ]
  },
  {
   "cell_type": "code",
   "execution_count": 10,
   "id": "33d136cf",
   "metadata": {
    "id": "33d136cf",
    "outputId": "4920f498-480f-4146-840d-839707d919d7"
   },
   "outputs": [
    {
     "data": {
      "image/png": "[encoded data removed]",
      "text/plain": [
       "<Figure size 432x288 with 1 Axes>"
      ]
     },
     "metadata": {
      "needs_background": "light"
     },
     "output_type": "display_data"
    }
   ],
   "source": [
    "sns.histplot(df.loc[df.company_size.isna(), 'company_type'].replace(np.nan, 'NaN')) \n",
    "#those two columns are correlated\n",
    "#5000 of data points are null in both of the columns\n",
    "    \n",
    "plt.xticks(rotation=30)\n",
    "plt.show()"
   ]
  },
  {
   "cell_type": "code",
   "execution_count": 11,
   "id": "8371d9bb",
   "metadata": {
    "id": "8371d9bb",
    "outputId": "77935c78-e7f0-4e42-e3c8-d0dde514ff40"
   },
   "outputs": [
    {
     "name": "stdout",
     "output_type": "stream",
     "text": [
      "0    Pvt Ltd\n",
      "dtype: object\n",
      "0    50-99\n",
      "dtype: object\n"
     ]
    }
   ],
   "source": [
    "print(df.company_type.mode())\n",
    "print(df.company_size.mode())"
   ]
  },
  {
   "cell_type": "code",
   "execution_count": 12,
   "id": "124cf8ca",
   "metadata": {
    "id": "124cf8ca",
    "outputId": "ba2417ad-84ff-468d-f606-672a4310db47"
   },
   "outputs": [
    {
     "name": "stderr",
     "output_type": "stream",
     "text": [
      "C:\\Users\\Xiang Meng\\anaconda3\\lib\\site-packages\\seaborn\\_decorators.py:36: FutureWarning: Pass the following variable as a keyword arg: x. From version 0.12, the only valid positional argument will be `data`, and passing other arguments without an explicit keyword will result in an error or misinterpretation.\n",
      "  warnings.warn(\n"
     ]
    },
    {
     "data": {
      "image/png": "[encoded data removed]",
      "text/plain": [
       "<Figure size 432x288 with 1 Axes>"
      ]
     },
     "metadata": {
      "needs_background": "light"
     },
     "output_type": "display_data"
    }
   ],
   "source": [
    "sns.countplot(df.company_size)\n",
    "plt.xticks(rotation=30)\n",
    "plt.show()"
   ]
  },
  {
   "cell_type": "code",
   "execution_count": 13,
   "id": "d5c4dc8f",
   "metadata": {
    "id": "d5c4dc8f"
   },
   "outputs": [],
   "source": [
    "df[\"company_type\"].fillna(df[\"company_type\"].mode()[0],inplace=True)\n",
    "df[\"company_size\"].fillna(df[\"company_size\"].mode()[0],inplace=True)\n"
   ]
  },
  {
   "cell_type": "markdown",
   "id": "4c911c3b",
   "metadata": {
    "id": "4c911c3b"
   },
   "source": [
    "## deal with experience column\n",
    "## cut experience into 5 levels\n",
    "## 0-4, 5-10, 11-14, 15-19, >20"
   ]
  },
  {
   "cell_type": "code",
   "execution_count": 14,
   "id": "455f41d9",
   "metadata": {
    "id": "455f41d9",
    "outputId": "dd211399-44d4-46cc-9bdb-87829e9b54c5",
    "scrolled": false
   },
   "outputs": [
    {
     "name": "stderr",
     "output_type": "stream",
     "text": [
      "C:\\Users\\Xiang Meng\\anaconda3\\lib\\site-packages\\seaborn\\_decorators.py:36: FutureWarning: Pass the following variable as a keyword arg: x. From version 0.12, the only valid positional argument will be `data`, and passing other arguments without an explicit keyword will result in an error or misinterpretation.\n",
      "  warnings.warn(\n"
     ]
    },
    {
     "data": {
      "image/png": "[encoded data removed]",
      "text/plain": [
       "<Figure size 432x288 with 1 Axes>"
      ]
     },
     "metadata": {
      "needs_background": "light"
     },
     "output_type": "display_data"
    }
   ],
   "source": [
    "sns.countplot(df.experience)\n",
    "plt.xticks(rotation=30)\n",
    "plt.show()"
   ]
  },
  {
   "cell_type": "code",
   "execution_count": 15,
   "id": "3e37e99c",
   "metadata": {
    "id": "3e37e99c"
   },
   "outputs": [],
   "source": [
    "def cut_exp(x):\n",
    "    if x in ['<1','1','2','3','4']: return 1\n",
    "    elif x in [str(i) for i in range(5, 10)]: return 2\n",
    "    elif x in [str(i) for i in range(10, 15)]: return 3\n",
    "    elif x in [str(i) for i in range(15, 20)]: return 4\n",
    "    else: return 5\n",
    "\n",
    "df['cut_exp'] = df['experience'].apply(cut_exp)"
   ]
  },
  {
   "cell_type": "code",
   "execution_count": 16,
   "id": "5ba7e74d",
   "metadata": {
    "id": "5ba7e74d",
    "outputId": "146f5cd3-c7d7-4dd5-aa07-5452cfe2b2a8"
   },
   "outputs": [
    {
     "data": {
      "text/plain": [
       "Index(['city_development_index', 'training_hours', 'target', 'gender_Male',\n",
       "       'gender_Other', 'relevent_experience_No relevent experience',\n",
       "       'enrolled_university_Part time course',\n",
       "       'enrolled_university_no_enrollment', 'education_level_Masters',\n",
       "       'education_level_Phd', 'major_discipline_Business Degree',\n",
       "       'major_discipline_Humanities', 'major_discipline_No Major',\n",
       "       'major_discipline_Other', 'major_discipline_STEM',\n",
       "       'company_size_100-500', 'company_size_1000-4999', 'company_size_10000+',\n",
       "       'company_size_50-99', 'company_size_500-999', 'company_size_5000-9999',\n",
       "       'company_size_<10', 'company_type_Funded Startup', 'company_type_NGO',\n",
       "       'company_type_Other', 'company_type_Public Sector',\n",
       "       'company_type_Pvt Ltd', 'last_new_job_2', 'last_new_job_3',\n",
       "       'last_new_job_4', 'last_new_job_>4', 'last_new_job_never', 'cut_exp_2',\n",
       "       'cut_exp_3', 'cut_exp_4', 'cut_exp_5'],\n",
       "      dtype='object')"
      ]
     },
     "execution_count": 16,
     "metadata": {},
     "output_type": "execute_result"
    }
   ],
   "source": [
    "df1 = df.copy()\n",
    "df1[['cut_exp']] = df1[['cut_exp']].astype('object')\n",
    "df1 = df1.loc[:, [x for x in df1.columns if x != 'experience']]\n",
    "df1 = pd.get_dummies(df1, drop_first = True)\n",
    "df1.columns"
   ]
  },
  {
   "cell_type": "markdown",
   "id": "94afc2e6",
   "metadata": {
    "id": "94afc2e6"
   },
   "source": [
    "## balance the data"
   ]
  },
  {
   "cell_type": "code",
   "execution_count": 17,
   "id": "6b3ade18",
   "metadata": {
    "id": "6b3ade18",
    "outputId": "9f20c8b8-2921-4054-c48d-d5297969c0fd"
   },
   "outputs": [
    {
     "name": "stdout",
     "output_type": "stream",
     "text": [
      "15792 4004.0\n"
     ]
    }
   ],
   "source": [
    "X = df1.drop('target', axis=1)\n",
    "y = df1.target\n",
    "print(len(y), sum(y))"
   ]
  },
  {
   "cell_type": "code",
   "execution_count": 18,
   "id": "b955e2f8",
   "metadata": {
    "id": "b955e2f8"
   },
   "outputs": [],
   "source": [
    "from sklearn.utils import resample\n",
    "\n",
    "X_resampled, y_resampled = resample(X[y==0], y[y==0], replace=False, n_samples=X[y==1].shape[0], random_state=42)"
   ]
  },
  {
   "cell_type": "code",
   "execution_count": 19,
   "id": "83520a6a",
   "metadata": {
    "id": "83520a6a"
   },
   "outputs": [],
   "source": [
    "X = np.vstack((X_resampled, X[y==1]))\n",
    "y = np.hstack((y_resampled, y[y==1]))"
   ]
  },
  {
   "cell_type": "code",
   "execution_count": 20,
   "id": "0eb942fd",
   "metadata": {
    "id": "0eb942fd",
    "outputId": "cc354bc0-6749-4a1a-c8e9-87e71d729ab0"
   },
   "outputs": [
    {
     "name": "stdout",
     "output_type": "stream",
     "text": [
      "8008 4004.0\n"
     ]
    }
   ],
   "source": [
    "print(len(y), y.sum())"
   ]
  },
  {
   "cell_type": "code",
   "execution_count": 45,
   "id": "b49bf143",
   "metadata": {},
   "outputs": [
    {
     "data": {
      "text/html": [
       "<div>\n",
       "<style scoped>\n",
       "    .dataframe tbody tr th:only-of-type {\n",
       "        vertical-align: middle;\n",
       "    }\n",
       "\n",
       "    .dataframe tbody tr th {\n",
       "        vertical-align: top;\n",
       "    }\n",
       "\n",
       "    .dataframe thead th {\n",
       "        text-align: right;\n",
       "    }\n",
       "</style>\n",
       "<table border=\"1\" class=\"dataframe\">\n",
       "  <thead>\n",
       "    <tr style=\"text-align: right;\">\n",
       "      <th></th>\n",
       "      <th>city_development_index</th>\n",
       "      <th>training_hours</th>\n",
       "      <th>target</th>\n",
       "      <th>gender_Male</th>\n",
       "      <th>gender_Other</th>\n",
       "      <th>relevent_experience_No relevent experience</th>\n",
       "      <th>enrolled_university_Part time course</th>\n",
       "      <th>enrolled_university_no_enrollment</th>\n",
       "      <th>education_level_Masters</th>\n",
       "      <th>education_level_Phd</th>\n",
       "      <th>...</th>\n",
       "      <th>company_type_Pvt Ltd</th>\n",
       "      <th>last_new_job_2</th>\n",
       "      <th>last_new_job_3</th>\n",
       "      <th>last_new_job_4</th>\n",
       "      <th>last_new_job_&gt;4</th>\n",
       "      <th>last_new_job_never</th>\n",
       "      <th>cut_exp_2</th>\n",
       "      <th>cut_exp_3</th>\n",
       "      <th>cut_exp_4</th>\n",
       "      <th>cut_exp_5</th>\n",
       "    </tr>\n",
       "  </thead>\n",
       "  <tbody>\n",
       "    <tr>\n",
       "      <th>0</th>\n",
       "      <td>0.920</td>\n",
       "      <td>36</td>\n",
       "      <td>1.0</td>\n",
       "      <td>1</td>\n",
       "      <td>0</td>\n",
       "      <td>0</td>\n",
       "      <td>0</td>\n",
       "      <td>1</td>\n",
       "      <td>0</td>\n",
       "      <td>0</td>\n",
       "      <td>...</td>\n",
       "      <td>1</td>\n",
       "      <td>0</td>\n",
       "      <td>0</td>\n",
       "      <td>0</td>\n",
       "      <td>0</td>\n",
       "      <td>0</td>\n",
       "      <td>0</td>\n",
       "      <td>0</td>\n",
       "      <td>0</td>\n",
       "      <td>1</td>\n",
       "    </tr>\n",
       "    <tr>\n",
       "      <th>1</th>\n",
       "      <td>0.776</td>\n",
       "      <td>47</td>\n",
       "      <td>0.0</td>\n",
       "      <td>1</td>\n",
       "      <td>0</td>\n",
       "      <td>1</td>\n",
       "      <td>0</td>\n",
       "      <td>1</td>\n",
       "      <td>0</td>\n",
       "      <td>0</td>\n",
       "      <td>...</td>\n",
       "      <td>1</td>\n",
       "      <td>0</td>\n",
       "      <td>0</td>\n",
       "      <td>0</td>\n",
       "      <td>1</td>\n",
       "      <td>0</td>\n",
       "      <td>0</td>\n",
       "      <td>0</td>\n",
       "      <td>1</td>\n",
       "      <td>0</td>\n",
       "    </tr>\n",
       "    <tr>\n",
       "      <th>2</th>\n",
       "      <td>0.624</td>\n",
       "      <td>83</td>\n",
       "      <td>0.0</td>\n",
       "      <td>0</td>\n",
       "      <td>1</td>\n",
       "      <td>1</td>\n",
       "      <td>0</td>\n",
       "      <td>0</td>\n",
       "      <td>0</td>\n",
       "      <td>0</td>\n",
       "      <td>...</td>\n",
       "      <td>1</td>\n",
       "      <td>0</td>\n",
       "      <td>0</td>\n",
       "      <td>0</td>\n",
       "      <td>0</td>\n",
       "      <td>1</td>\n",
       "      <td>1</td>\n",
       "      <td>0</td>\n",
       "      <td>0</td>\n",
       "      <td>0</td>\n",
       "    </tr>\n",
       "    <tr>\n",
       "      <th>4</th>\n",
       "      <td>0.767</td>\n",
       "      <td>8</td>\n",
       "      <td>0.0</td>\n",
       "      <td>1</td>\n",
       "      <td>0</td>\n",
       "      <td>0</td>\n",
       "      <td>0</td>\n",
       "      <td>1</td>\n",
       "      <td>1</td>\n",
       "      <td>0</td>\n",
       "      <td>...</td>\n",
       "      <td>0</td>\n",
       "      <td>0</td>\n",
       "      <td>0</td>\n",
       "      <td>1</td>\n",
       "      <td>0</td>\n",
       "      <td>0</td>\n",
       "      <td>0</td>\n",
       "      <td>0</td>\n",
       "      <td>0</td>\n",
       "      <td>1</td>\n",
       "    </tr>\n",
       "    <tr>\n",
       "      <th>5</th>\n",
       "      <td>0.764</td>\n",
       "      <td>24</td>\n",
       "      <td>1.0</td>\n",
       "      <td>0</td>\n",
       "      <td>1</td>\n",
       "      <td>0</td>\n",
       "      <td>1</td>\n",
       "      <td>0</td>\n",
       "      <td>0</td>\n",
       "      <td>0</td>\n",
       "      <td>...</td>\n",
       "      <td>1</td>\n",
       "      <td>0</td>\n",
       "      <td>0</td>\n",
       "      <td>0</td>\n",
       "      <td>0</td>\n",
       "      <td>0</td>\n",
       "      <td>0</td>\n",
       "      <td>1</td>\n",
       "      <td>0</td>\n",
       "      <td>0</td>\n",
       "    </tr>\n",
       "    <tr>\n",
       "      <th>...</th>\n",
       "      <td>...</td>\n",
       "      <td>...</td>\n",
       "      <td>...</td>\n",
       "      <td>...</td>\n",
       "      <td>...</td>\n",
       "      <td>...</td>\n",
       "      <td>...</td>\n",
       "      <td>...</td>\n",
       "      <td>...</td>\n",
       "      <td>...</td>\n",
       "      <td>...</td>\n",
       "      <td>...</td>\n",
       "      <td>...</td>\n",
       "      <td>...</td>\n",
       "      <td>...</td>\n",
       "      <td>...</td>\n",
       "      <td>...</td>\n",
       "      <td>...</td>\n",
       "      <td>...</td>\n",
       "      <td>...</td>\n",
       "      <td>...</td>\n",
       "    </tr>\n",
       "    <tr>\n",
       "      <th>19150</th>\n",
       "      <td>0.920</td>\n",
       "      <td>23</td>\n",
       "      <td>0.0</td>\n",
       "      <td>0</td>\n",
       "      <td>0</td>\n",
       "      <td>0</td>\n",
       "      <td>0</td>\n",
       "      <td>1</td>\n",
       "      <td>0</td>\n",
       "      <td>0</td>\n",
       "      <td>...</td>\n",
       "      <td>0</td>\n",
       "      <td>0</td>\n",
       "      <td>1</td>\n",
       "      <td>0</td>\n",
       "      <td>0</td>\n",
       "      <td>0</td>\n",
       "      <td>0</td>\n",
       "      <td>1</td>\n",
       "      <td>0</td>\n",
       "      <td>0</td>\n",
       "    </tr>\n",
       "    <tr>\n",
       "      <th>19152</th>\n",
       "      <td>0.920</td>\n",
       "      <td>25</td>\n",
       "      <td>0.0</td>\n",
       "      <td>0</td>\n",
       "      <td>0</td>\n",
       "      <td>0</td>\n",
       "      <td>0</td>\n",
       "      <td>1</td>\n",
       "      <td>0</td>\n",
       "      <td>0</td>\n",
       "      <td>...</td>\n",
       "      <td>0</td>\n",
       "      <td>0</td>\n",
       "      <td>0</td>\n",
       "      <td>0</td>\n",
       "      <td>0</td>\n",
       "      <td>0</td>\n",
       "      <td>1</td>\n",
       "      <td>0</td>\n",
       "      <td>0</td>\n",
       "      <td>0</td>\n",
       "    </tr>\n",
       "    <tr>\n",
       "      <th>19153</th>\n",
       "      <td>0.878</td>\n",
       "      <td>42</td>\n",
       "      <td>1.0</td>\n",
       "      <td>1</td>\n",
       "      <td>0</td>\n",
       "      <td>1</td>\n",
       "      <td>0</td>\n",
       "      <td>1</td>\n",
       "      <td>0</td>\n",
       "      <td>0</td>\n",
       "      <td>...</td>\n",
       "      <td>1</td>\n",
       "      <td>0</td>\n",
       "      <td>0</td>\n",
       "      <td>0</td>\n",
       "      <td>0</td>\n",
       "      <td>0</td>\n",
       "      <td>0</td>\n",
       "      <td>1</td>\n",
       "      <td>0</td>\n",
       "      <td>0</td>\n",
       "    </tr>\n",
       "    <tr>\n",
       "      <th>19154</th>\n",
       "      <td>0.920</td>\n",
       "      <td>52</td>\n",
       "      <td>1.0</td>\n",
       "      <td>1</td>\n",
       "      <td>0</td>\n",
       "      <td>0</td>\n",
       "      <td>0</td>\n",
       "      <td>1</td>\n",
       "      <td>0</td>\n",
       "      <td>0</td>\n",
       "      <td>...</td>\n",
       "      <td>1</td>\n",
       "      <td>0</td>\n",
       "      <td>0</td>\n",
       "      <td>1</td>\n",
       "      <td>0</td>\n",
       "      <td>0</td>\n",
       "      <td>0</td>\n",
       "      <td>1</td>\n",
       "      <td>0</td>\n",
       "      <td>0</td>\n",
       "    </tr>\n",
       "    <tr>\n",
       "      <th>19155</th>\n",
       "      <td>0.920</td>\n",
       "      <td>44</td>\n",
       "      <td>0.0</td>\n",
       "      <td>1</td>\n",
       "      <td>0</td>\n",
       "      <td>0</td>\n",
       "      <td>0</td>\n",
       "      <td>1</td>\n",
       "      <td>0</td>\n",
       "      <td>0</td>\n",
       "      <td>...</td>\n",
       "      <td>1</td>\n",
       "      <td>0</td>\n",
       "      <td>0</td>\n",
       "      <td>1</td>\n",
       "      <td>0</td>\n",
       "      <td>0</td>\n",
       "      <td>0</td>\n",
       "      <td>0</td>\n",
       "      <td>0</td>\n",
       "      <td>1</td>\n",
       "    </tr>\n",
       "  </tbody>\n",
       "</table>\n",
       "<p>15792 rows × 36 columns</p>\n",
       "</div>"
      ],
      "text/plain": [
       "       city_development_index  training_hours  target  gender_Male  \\\n",
       "0                       0.920              36     1.0            1   \n",
       "1                       0.776              47     0.0            1   \n",
       "2                       0.624              83     0.0            0   \n",
       "4                       0.767               8     0.0            1   \n",
       "5                       0.764              24     1.0            0   \n",
       "...                       ...             ...     ...          ...   \n",
       "19150                   0.920              23     0.0            0   \n",
       "19152                   0.920              25     0.0            0   \n",
       "19153                   0.878              42     1.0            1   \n",
       "19154                   0.920              52     1.0            1   \n",
       "19155                   0.920              44     0.0            1   \n",
       "\n",
       "       gender_Other  relevent_experience_No relevent experience  \\\n",
       "0                 0                                           0   \n",
       "1                 0                                           1   \n",
       "2                 1                                           1   \n",
       "4                 0                                           0   \n",
       "5                 1                                           0   \n",
       "...             ...                                         ...   \n",
       "19150             0                                           0   \n",
       "19152             0                                           0   \n",
       "19153             0                                           1   \n",
       "19154             0                                           0   \n",
       "19155             0                                           0   \n",
       "\n",
       "       enrolled_university_Part time course  \\\n",
       "0                                         0   \n",
       "1                                         0   \n",
       "2                                         0   \n",
       "4                                         0   \n",
       "5                                         1   \n",
       "...                                     ...   \n",
       "19150                                     0   \n",
       "19152                                     0   \n",
       "19153                                     0   \n",
       "19154                                     0   \n",
       "19155                                     0   \n",
       "\n",
       "       enrolled_university_no_enrollment  education_level_Masters  \\\n",
       "0                                      1                        0   \n",
       "1                                      1                        0   \n",
       "2                                      0                        0   \n",
       "4                                      1                        1   \n",
       "5                                      0                        0   \n",
       "...                                  ...                      ...   \n",
       "19150                                  1                        0   \n",
       "19152                                  1                        0   \n",
       "19153                                  1                        0   \n",
       "19154                                  1                        0   \n",
       "19155                                  1                        0   \n",
       "\n",
       "       education_level_Phd  ...  company_type_Pvt Ltd  last_new_job_2  \\\n",
       "0                        0  ...                     1               0   \n",
       "1                        0  ...                     1               0   \n",
       "2                        0  ...                     1               0   \n",
       "4                        0  ...                     0               0   \n",
       "5                        0  ...                     1               0   \n",
       "...                    ...  ...                   ...             ...   \n",
       "19150                    0  ...                     0               0   \n",
       "19152                    0  ...                     0               0   \n",
       "19153                    0  ...                     1               0   \n",
       "19154                    0  ...                     1               0   \n",
       "19155                    0  ...                     1               0   \n",
       "\n",
       "       last_new_job_3  last_new_job_4  last_new_job_>4  last_new_job_never  \\\n",
       "0                   0               0                0                   0   \n",
       "1                   0               0                1                   0   \n",
       "2                   0               0                0                   1   \n",
       "4                   0               1                0                   0   \n",
       "5                   0               0                0                   0   \n",
       "...               ...             ...              ...                 ...   \n",
       "19150               1               0                0                   0   \n",
       "19152               0               0                0                   0   \n",
       "19153               0               0                0                   0   \n",
       "19154               0               1                0                   0   \n",
       "19155               0               1                0                   0   \n",
       "\n",
       "       cut_exp_2  cut_exp_3  cut_exp_4  cut_exp_5  \n",
       "0              0          0          0          1  \n",
       "1              0          0          1          0  \n",
       "2              1          0          0          0  \n",
       "4              0          0          0          1  \n",
       "5              0          1          0          0  \n",
       "...          ...        ...        ...        ...  \n",
       "19150          0          1          0          0  \n",
       "19152          1          0          0          0  \n",
       "19153          0          1          0          0  \n",
       "19154          0          1          0          0  \n",
       "19155          0          0          0          1  \n",
       "\n",
       "[15792 rows x 36 columns]"
      ]
     },
     "execution_count": 45,
     "metadata": {},
     "output_type": "execute_result"
    }
   ],
   "source": [
    "df1"
   ]
  },
  {
   "cell_type": "code",
   "execution_count": 44,
   "id": "6d56e050",
   "metadata": {},
   "outputs": [
    {
     "name": "stdout",
     "output_type": "stream",
     "text": [
      "[[ 0.767 54.     1.    ...  0.     0.     0.   ]\n",
      " [ 0.92  36.     1.    ...  0.     0.     1.   ]\n",
      " [ 0.624 78.     1.    ...  0.     0.     0.   ]\n",
      " ...\n",
      " [ 0.92  36.     1.    ...  0.     0.     0.   ]\n",
      " [ 0.878 42.     1.    ...  1.     0.     0.   ]\n",
      " [ 0.92  52.     1.    ...  1.     0.     0.   ]]\n",
      "[0. 0. 0. ... 1. 1. 1.]\n"
     ]
    }
   ],
   "source": [
    "print(X)\n",
    "print(y)"
   ]
  },
  {
   "cell_type": "code",
   "execution_count": 65,
   "id": "7b3822cf",
   "metadata": {},
   "outputs": [],
   "source": [
    "import seaborn as sns\n",
    "from matplotlib import pyplot as plt\n",
    "corrmatrix = df1.corr()\n",
    "#plt.figure(figsize=(12,8))\n",
    "#plot = sns.heatmap(df1[corrmatrix.index].corr(), annot = False)"
   ]
  },
  {
   "cell_type": "markdown",
   "id": "6e29d276",
   "metadata": {
    "id": "6e29d276"
   },
   "source": [
    "# "
   ]
  },
  {
   "cell_type": "markdown",
   "id": "c7c10a6d",
   "metadata": {
    "id": "c7c10a6d"
   },
   "source": [
    "# "
   ]
  },
  {
   "cell_type": "markdown",
   "id": "feeca4a7",
   "metadata": {
    "id": "feeca4a7"
   },
   "source": [
    "# MODELLING"
   ]
  },
  {
   "cell_type": "code",
   "execution_count": 21,
   "id": "e0ec7863",
   "metadata": {
    "id": "e0ec7863"
   },
   "outputs": [],
   "source": [
    "from sklearn.model_selection import train_test_split\n",
    "from sklearn.linear_model import LogisticRegression\n",
    "from sklearn.neighbors import KNeighborsClassifier\n",
    "from sklearn.tree import DecisionTreeClassifier\n",
    "from sklearn.pipeline import Pipeline\n",
    "from sklearn.model_selection import GridSearchCV\n",
    "from sklearn.preprocessing import StandardScaler"
   ]
  },
  {
   "cell_type": "code",
   "execution_count": 22,
   "id": "ac6b03d6",
   "metadata": {
    "id": "ac6b03d6",
    "outputId": "0403bb08-5fd4-4e8a-db51-6921651f930e"
   },
   "outputs": [
    {
     "name": "stdout",
     "output_type": "stream",
     "text": [
      "35 35\n"
     ]
    }
   ],
   "source": [
    "print(X.shape[1], len([x for x in df1.columns if x != 'target']))"
   ]
  },
  {
   "cell_type": "code",
   "execution_count": 23,
   "id": "70c8ed97",
   "metadata": {
    "id": "70c8ed97"
   },
   "outputs": [],
   "source": [
    "#X_train, X_test, y_train, y_test = train_test_split(X, y, stratify = y, shuffle = True, random_state=42)"
   ]
  },
  {
   "cell_type": "code",
   "execution_count": 24,
   "id": "5e60ebae",
   "metadata": {
    "id": "5e60ebae"
   },
   "outputs": [],
   "source": [
    "pipe_knn = Pipeline([('scaler', StandardScaler()), ('knn', KNeighborsClassifier())])"
   ]
  },
  {
   "cell_type": "code",
   "execution_count": 25,
   "id": "45501554",
   "metadata": {
    "id": "45501554"
   },
   "outputs": [],
   "source": [
    "param_grid = {\n",
    "    'knn__n_neighbors':range(20, 80, 2),\n",
    "    'knn__weights': ['uniform', 'distance']\n",
    "}"
   ]
  },
  {
   "cell_type": "code",
   "execution_count": 26,
   "id": "08c9d06d",
   "metadata": {
    "id": "08c9d06d"
   },
   "outputs": [],
   "source": [
    "gs_knn = GridSearchCV(pipe_knn, \n",
    "                     param_grid = param_grid,\n",
    "                     cv=5,\n",
    "                     scoring = 'accuracy',\n",
    "                     verbose=1,\n",
    "                     n_jobs=-1\n",
    "                     )"
   ]
  },
  {
   "cell_type": "code",
   "execution_count": 27,
   "id": "2434a71e",
   "metadata": {
    "id": "2434a71e",
    "outputId": "db74f5b9-161a-439d-c112-e9fb9cdbe8e7"
   },
   "outputs": [
    {
     "name": "stdout",
     "output_type": "stream",
     "text": [
      "Fitting 5 folds for each of 60 candidates, totalling 300 fits\n"
     ]
    },
    {
     "data": {
      "text/plain": [
       "GridSearchCV(cv=5,\n",
       "             estimator=Pipeline(steps=[('scaler', StandardScaler()),\n",
       "                                       ('knn', KNeighborsClassifier())]),\n",
       "             n_jobs=-1,\n",
       "             param_grid={'knn__n_neighbors': range(20, 80, 2),\n",
       "                         'knn__weights': ['uniform', 'distance']},\n",
       "             scoring='accuracy', verbose=1)"
      ]
     },
     "execution_count": 27,
     "metadata": {},
     "output_type": "execute_result"
    }
   ],
   "source": [
    "gs_knn.fit(X, y)"
   ]
  },
  {
   "cell_type": "code",
   "execution_count": 28,
   "id": "53d2d5dc",
   "metadata": {
    "id": "53d2d5dc",
    "outputId": "6c413287-539b-43b8-ec76-bfc073be1c29"
   },
   "outputs": [
    {
     "data": {
      "text/plain": [
       "(0.6795702748204345, {'knn__n_neighbors': 26, 'knn__weights': 'uniform'})"
      ]
     },
     "execution_count": 28,
     "metadata": {},
     "output_type": "execute_result"
    }
   ],
   "source": [
    "gs_knn.best_score_, gs_knn.best_params_"
   ]
  },
  {
   "cell_type": "code",
   "execution_count": 29,
   "id": "6f5366b5",
   "metadata": {
    "id": "6f5366b5",
    "scrolled": true
   },
   "outputs": [],
   "source": [
    "pipe_lr = Pipeline([('scaler', StandardScaler()), ('lr', LogisticRegression(max_iter=1000, random_state=42))])"
   ]
  },
  {
   "cell_type": "code",
   "execution_count": 30,
   "id": "3ea58bb8",
   "metadata": {
    "id": "3ea58bb8"
   },
   "outputs": [],
   "source": [
    "param_grid = {\n",
    "    'lr__C':10.0**np.arange(-5, 6, 1),\n",
    "    'lr__penalty': ['l1','l2']\n",
    "}"
   ]
  },
  {
   "cell_type": "code",
   "execution_count": 31,
   "id": "d0354691",
   "metadata": {
    "id": "d0354691"
   },
   "outputs": [],
   "source": [
    "gs_lr = GridSearchCV(pipe_lr, \n",
    "                     param_grid = param_grid,\n",
    "                     cv=5,\n",
    "                     scoring = 'accuracy',\n",
    "                     verbose=1,\n",
    "                     n_jobs=-1\n",
    "                     )"
   ]
  },
  {
   "cell_type": "code",
   "execution_count": 32,
   "id": "21e3def3",
   "metadata": {
    "id": "21e3def3",
    "outputId": "407fffce-8907-4478-ae1c-a745265803ff"
   },
   "outputs": [
    {
     "name": "stdout",
     "output_type": "stream",
     "text": [
      "Fitting 5 folds for each of 22 candidates, totalling 110 fits\n"
     ]
    },
    {
     "name": "stderr",
     "output_type": "stream",
     "text": [
      "C:\\Users\\Xiang Meng\\anaconda3\\lib\\site-packages\\sklearn\\model_selection\\_search.py:918: UserWarning: One or more of the test scores are non-finite: [       nan 0.68593786        nan 0.69243201        nan 0.70329632\n",
      "        nan 0.70491937        nan 0.70367069        nan 0.70429491\n",
      "        nan 0.70429491        nan 0.70429491        nan 0.70429491\n",
      "        nan 0.70429491        nan 0.70429491]\n",
      "  warnings.warn(\n"
     ]
    },
    {
     "data": {
      "text/plain": [
       "GridSearchCV(cv=5,\n",
       "             estimator=Pipeline(steps=[('scaler', StandardScaler()),\n",
       "                                       ('lr',\n",
       "                                        LogisticRegression(max_iter=1000,\n",
       "                                                           random_state=42))]),\n",
       "             n_jobs=-1,\n",
       "             param_grid={'lr__C': array([1.e-05, 1.e-04, 1.e-03, 1.e-02, 1.e-01, 1.e+00, 1.e+01, 1.e+02,\n",
       "       1.e+03, 1.e+04, 1.e+05]),\n",
       "                         'lr__penalty': ['l1', 'l2']},\n",
       "             scoring='accuracy', verbose=1)"
      ]
     },
     "execution_count": 32,
     "metadata": {},
     "output_type": "execute_result"
    }
   ],
   "source": [
    "gs_lr.fit(X, y)"
   ]
  },
  {
   "cell_type": "code",
   "execution_count": 33,
   "id": "752ce54b",
   "metadata": {
    "id": "752ce54b",
    "outputId": "4213469d-c94f-4197-c9ad-ce7daeecdde5"
   },
   "outputs": [
    {
     "data": {
      "text/plain": [
       "(0.7049193660953165, {'lr__C': 0.01, 'lr__penalty': 'l2'})"
      ]
     },
     "execution_count": 33,
     "metadata": {},
     "output_type": "execute_result"
    }
   ],
   "source": [
    "gs_lr.best_score_, gs_lr.best_params_"
   ]
  },
  {
   "cell_type": "code",
   "execution_count": 67,
   "id": "48c98531",
   "metadata": {
    "id": "48c98531"
   },
   "outputs": [],
   "source": [
    "pipe_dt = Pipeline([('scaler', StandardScaler()), ('dt', DecisionTreeClassifier(random_state=42))])\n",
    "param_grid = {\n",
    "    'dt__max_depth':np.arange(5, 20),\n",
    "    'dt__min_samples_split': [2,3,4,5,6,7,8,9,10],\n",
    "    'dt__min_samples_leaf': [1,2,3,4,5,6,7,8,9,10],\n",
    "}"
   ]
  },
  {
   "cell_type": "code",
   "execution_count": 56,
   "id": "c3662306",
   "metadata": {
    "id": "c3662306"
   },
   "outputs": [],
   "source": [
    "gs_dt = GridSearchCV(pipe_dt, \n",
    "                     param_grid = param_grid,\n",
    "                     cv=5,\n",
    "                     scoring = 'accuracy',\n",
    "                     verbose=1,\n",
    "                     n_jobs=-1\n",
    "                     )"
   ]
  },
  {
   "cell_type": "code",
   "execution_count": 57,
   "id": "fc87ac98",
   "metadata": {
    "id": "fc87ac98",
    "outputId": "957f05cc-9c7a-4889-fd86-451b85f4c857"
   },
   "outputs": [
    {
     "name": "stdout",
     "output_type": "stream",
     "text": [
      "Fitting 5 folds for each of 1350 candidates, totalling 6750 fits\n"
     ]
    },
    {
     "data": {
      "text/plain": [
       "GridSearchCV(cv=5,\n",
       "             estimator=Pipeline(steps=[('scaler', StandardScaler()),\n",
       "                                       ('dt',\n",
       "                                        DecisionTreeClassifier(random_state=42))]),\n",
       "             n_jobs=-1,\n",
       "             param_grid={'dt__max_depth': array([ 5,  6,  7,  8,  9, 10, 11, 12, 13, 14, 15, 16, 17, 18, 19]),\n",
       "                         'dt__min_samples_leaf': [1, 2, 3, 4, 5, 6, 7, 8, 9,\n",
       "                                                  10],\n",
       "                         'dt__min_samples_split': [2, 3, 4, 5, 6, 7, 8, 9, 10]},\n",
       "             scoring='accuracy', verbose=1)"
      ]
     },
     "execution_count": 57,
     "metadata": {},
     "output_type": "execute_result"
    }
   ],
   "source": [
    "gs_dt.fit(X,y)"
   ]
  },
  {
   "cell_type": "code",
   "execution_count": 58,
   "id": "6ddd0db6",
   "metadata": {
    "id": "6ddd0db6",
    "outputId": "6c13b6ad-27f1-4934-ef44-095d76d306f6"
   },
   "outputs": [
    {
     "data": {
      "text/plain": [
       "(0.7437554243953335,\n",
       " {'dt__max_depth': 6, 'dt__min_samples_leaf': 3, 'dt__min_samples_split': 7})"
      ]
     },
     "execution_count": 58,
     "metadata": {},
     "output_type": "execute_result"
    }
   ],
   "source": [
    "gs_dt.best_score_, gs_dt.best_params_"
   ]
  },
  {
   "cell_type": "code",
   "execution_count": 59,
   "id": "76efe602",
   "metadata": {},
   "outputs": [
    {
     "data": {
      "text/plain": [
       "Pipeline(steps=[('scaler', StandardScaler()),\n",
       "                ('dt',\n",
       "                 DecisionTreeClassifier(max_depth=6, min_samples_leaf=3,\n",
       "                                        min_samples_split=7,\n",
       "                                        random_state=42))])"
      ]
     },
     "execution_count": 59,
     "metadata": {},
     "output_type": "execute_result"
    }
   ],
   "source": [
    "gs_dt.best_estimator_"
   ]
  },
  {
   "cell_type": "code",
   "execution_count": null,
   "id": "a6b89365",
   "metadata": {},
   "outputs": [],
   "source": []
  },
  {
   "cell_type": "code",
   "execution_count": null,
   "id": "2eba38ab",
   "metadata": {},
   "outputs": [],
   "source": []
  },
  {
   "cell_type": "code",
   "execution_count": 60,
   "id": "fd011e8b",
   "metadata": {},
   "outputs": [],
   "source": [
    "knn_clf = gs_knn.best_estimator_\n",
    "lr_clf = gs_lr.best_estimator_\n",
    "dt_clf = gs_dt.best_estimator_"
   ]
  },
  {
   "cell_type": "code",
   "execution_count": 62,
   "id": "f842d85a",
   "metadata": {
    "id": "8a9e37aa"
   },
   "outputs": [
    {
     "name": "stdout",
     "output_type": "stream",
     "text": [
      "5-fold cross validation:\n",
      "\n",
      "ROC AUC: 0.76 (+/- 0.00) [Logistic regression]\n",
      "ROC AUC: 0.78 (+/- 0.00) [Decision tree]\n",
      "ROC AUC: 0.73 (+/- 0.01) [kNN]\n"
     ]
    }
   ],
   "source": [
    "import numpy as np\n",
    "from sklearn.linear_model import LogisticRegression\n",
    "from sklearn.tree import DecisionTreeClassifier\n",
    "from sklearn.neighbors import KNeighborsClassifier \n",
    "from sklearn.metrics import roc_curve\n",
    "from sklearn.metrics import auc\n",
    "from sklearn.model_selection import GridSearchCV, KFold, cross_val_score\n",
    "\n",
    "\n",
    "clf_labels = ['Logistic regression', 'Decision tree', 'kNN']\n",
    "all_clf = [lr_clf, dt_clf, knn_clf]\n",
    "\n",
    "#################################### Cross - Validation ####################################\n",
    "\n",
    "\n",
    "print('5-fold cross validation:\\n')\n",
    "# Note: We are assuming here that the data is standardized. For the homework, you need to make sure the data is standardized.\n",
    "for clf, label in zip(all_clf, clf_labels): #For all classifiers \n",
    "    scores = cross_val_score(estimator=clf,  #Estimate AUC based on cross validation\n",
    "                             X=X,\n",
    "                             y=y,\n",
    "                             cv=5,\n",
    "                             scoring='roc_auc')\n",
    "    print(\"ROC AUC: %0.2f (+/- %0.2f) [%s]\" #Print peformance statistics based on cross-validation\n",
    "          % (scores.mean(), scores.std(), label))"
   ]
  },
  {
   "cell_type": "code",
   "execution_count": 63,
   "id": "8a9e37aa",
   "metadata": {
    "id": "8a9e37aa"
   },
   "outputs": [
    {
     "data": {
      "image/png": "[encoded data removed]",
      "text/plain": [
       "<Figure size 432x288 with 1 Axes>"
      ]
     },
     "metadata": {
      "needs_background": "light"
     },
     "output_type": "display_data"
    }
   ],
   "source": [
    "X_train, X_test, y_train, y_test = train_test_split(X, y, test_size=0.2, random_state = 42)\n",
    "\n",
    "colors = [ 'orange', 'blue', 'green']      # Colors for visualization\n",
    "linestyles = [':', '--', '-.', '-']        # Line styles for visualization\n",
    "for clf, label, clr, ls in zip(all_clf,\n",
    "               clf_labels, colors, linestyles):\n",
    "\n",
    "    # Assuming the label of the positive class is 1 and data is normalized\n",
    "    y_pred = clf.fit(X_train,\n",
    "                     y_train).predict_proba(X_test)[:, 1] # Make predictions based on the classifiers\n",
    "    fpr, tpr, thresholds = roc_curve(y_true=y_test, # Build ROC curve\n",
    "                                     y_score=y_pred)\n",
    "    roc_auc = auc(x=fpr, y=tpr)                # Compute Area Under the Curve (AUC) \n",
    "    plt.plot(fpr, tpr,                         # Plot ROC Curve and create label with AUC values\n",
    "             color=clr,\n",
    "             linestyle=ls,\n",
    "             label='%s (auc = %0.3f)' % (label, roc_auc))\n",
    "\n",
    "plt.legend(loc='lower right')    # Where to place the legend\n",
    "plt.plot([0, 1], [0, 1], # Visualize random classifier\n",
    "         linestyle='--',\n",
    "         color='gray',\n",
    "         linewidth=2)\n",
    "\n",
    "plt.xlim([-0.1, 1.1])   #limits for x axis\n",
    "plt.ylim([-0.1, 1.1])   #limits for y axis\n",
    "plt.grid(alpha=0.5)\n",
    "plt.xlabel('False positive rate (FPR)')\n",
    "plt.ylabel('True positive rate (TPR)')\n",
    "\n",
    "\n",
    "#plt.savefig('ROC_all_classifiers', dpi=300)\n",
    "plt.show()"
   ]
  },
  {
   "cell_type": "code",
   "execution_count": 74,
   "id": "bd0b9145",
   "metadata": {},
   "outputs": [],
   "source": [
    "from sklearn.metrics import confusion_matrix\n",
    "import itertools\n",
    "dt_pred = dt_clf.predict(X_test)\n",
    "cnf_matrix = confusion_matrix(y_test, dt_pred)"
   ]
  },
  {
   "cell_type": "code",
   "execution_count": 75,
   "id": "485a1ec7",
   "metadata": {},
   "outputs": [],
   "source": [
    "def plot_confusion_matrix(cm, classes,\n",
    "                          normalize=False,\n",
    "                          title='Confusion matrix',\n",
    "                          cmap=plt.cm.Blues):\n",
    "    \"\"\"\n",
    "    This function prints and plots the confusion matrix.\n",
    "    Normalization can be applied by setting `normalize=True`.\n",
    "    \"\"\"\n",
    "    if normalize:\n",
    "        cm = cm.astype('float') / cm.sum(axis=1)[:, np.newaxis]\n",
    "        print(\"Normalized confusion matrix\")\n",
    "    else:\n",
    "        print('Confusion matrix, without normalization')\n",
    "\n",
    "    print(cm)\n",
    "\n",
    "    plt.imshow(cm, interpolation='nearest', cmap=cmap)\n",
    "    plt.title(title)\n",
    "    plt.colorbar()\n",
    "    tick_marks = np.arange(len(classes))\n",
    "    plt.xticks(tick_marks, classes, rotation=45)\n",
    "    plt.yticks(tick_marks, classes)\n",
    "\n",
    "    fmt = '.2f' if normalize else 'd'\n",
    "    thresh = cm.max() / 2.\n",
    "    for i, j in itertools.product(range(cm.shape[0]), range(cm.shape[1])):\n",
    "        plt.text(j, i, format(cm[i, j], fmt),\n",
    "                 horizontalalignment=\"center\",\n",
    "                 color=\"white\" if cm[i, j] > thresh else \"black\")\n",
    "\n",
    "    plt.tight_layout()\n",
    "    plt.ylabel('True label')\n",
    "    plt.xlabel('Predicted label')"
   ]
  },
  {
   "cell_type": "code",
   "execution_count": 78,
   "id": "ee2fb65b",
   "metadata": {},
   "outputs": [
    {
     "name": "stdout",
     "output_type": "stream",
     "text": [
      "Normalized confusion matrix\n",
      "[[0.71691176 0.28308824]\n",
      " [0.23918575 0.76081425]]\n"
     ]
    },
    {
     "data": {
      "image/png": "[encoded data removed]",
      "text/plain": [
       "<Figure size 432x288 with 2 Axes>"
      ]
     },
     "metadata": {
      "needs_background": "light"
     },
     "output_type": "display_data"
    }
   ],
   "source": [
    "plt.figure()\n",
    "plot_confusion_matrix(cnf_matrix, classes=[1,0], normalize=True,\n",
    "                      title='Decision Tree Normalized confusion matrix')\n",
    "\n",
    "plt.show()"
   ]
  },
  {
   "cell_type": "code",
   "execution_count": null,
   "id": "16a48bc7",
   "metadata": {},
   "outputs": [],
   "source": []
  }
 ],
 "metadata": {
  "colab": {
   "collapsed_sections": [],
   "name": "final_project.ipynb",
   "provenance": []
  },
  "kernelspec": {
   "display_name": "Python 3",
   "language": "python",
   "name": "python3"
  },
  "language_info": {
   "codemirror_mode": {
    "name": "ipython",
    "version": 3
   },
   "file_extension": ".py",
   "mimetype": "text/x-python",
   "name": "python",
   "nbconvert_exporter": "python",
   "pygments_lexer": "ipython3",
   "version": "3.8.8"
  }
 },
 "nbformat": 4,
 "nbformat_minor": 5
}
